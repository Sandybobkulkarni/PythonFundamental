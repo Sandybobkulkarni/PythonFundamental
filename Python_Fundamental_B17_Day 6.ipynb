{
 "cells": [
  {
   "cell_type": "code",
   "execution_count": 2,
   "metadata": {},
   "outputs": [],
   "source": [
    "#Introduction to organising the list:"
   ]
  },
  {
   "cell_type": "code",
   "execution_count": 3,
   "metadata": {},
   "outputs": [],
   "source": [
    "#Continuation with the list:"
   ]
  },
  {
   "cell_type": "code",
   "execution_count": 5,
   "metadata": {},
   "outputs": [
    {
     "name": "stdout",
     "output_type": "stream",
     "text": [
      "['audi', 'benz', 'bmw', 'hond', 'maruthi', 'tata', 'toyato']\n"
     ]
    }
   ],
   "source": [
    "cars=['audi','benz','bmw','hond','maruthi','tata','toyato']\n",
    "print(cars)"
   ]
  },
  {
   "cell_type": "code",
   "execution_count": 6,
   "metadata": {},
   "outputs": [],
   "source": [
    "#Introduction to organising a list:"
   ]
  },
  {
   "cell_type": "code",
   "execution_count": 7,
   "metadata": {},
   "outputs": [],
   "source": [
    "#Permanent sorting -----> by using sorting method"
   ]
  },
  {
   "cell_type": "code",
   "execution_count": 8,
   "metadata": {},
   "outputs": [],
   "source": [
    "#Req: To arrange my list in a alphabetica order"
   ]
  },
  {
   "cell_type": "code",
   "execution_count": null,
   "metadata": {},
   "outputs": [],
   "source": [
    "1. Temp Sorting\n",
    "2. Sort"
   ]
  },
  {
   "cell_type": "code",
   "execution_count": 11,
   "metadata": {},
   "outputs": [
    {
     "name": "stdout",
     "output_type": "stream",
     "text": [
      "['audi', 'benz', 'bmw', 'hond', 'maruthi', 'tata', 'toyato']\n"
     ]
    }
   ],
   "source": [
    "cars=['maruthi','hond','bmw','benz','audi','tata','toyato']\n",
    "print(sorted(cars))"
   ]
  },
  {
   "cell_type": "code",
   "execution_count": 12,
   "metadata": {},
   "outputs": [],
   "source": [
    "#Permanent sort -----> The orginal order will not maintained: "
   ]
  },
  {
   "cell_type": "code",
   "execution_count": 13,
   "metadata": {},
   "outputs": [
    {
     "name": "stdout",
     "output_type": "stream",
     "text": [
      "['audi', 'benz', 'bmw', 'hond', 'maruthi', 'tata', 'toyato']\n"
     ]
    }
   ],
   "source": [
    "cars=['audi', 'benz', 'bmw', 'hond', 'maruthi', 'tata', 'toyato']\n",
    "cars.sort()\n",
    "print(cars)"
   ]
  },
  {
   "cell_type": "code",
   "execution_count": 14,
   "metadata": {},
   "outputs": [],
   "source": [
    "#How do you print the list in a reverse order:"
   ]
  },
  {
   "cell_type": "code",
   "execution_count": 15,
   "metadata": {},
   "outputs": [
    {
     "name": "stdout",
     "output_type": "stream",
     "text": [
      "['toyato', 'tata', 'maruthi', 'hond', 'bmw', 'benz', 'audi']\n"
     ]
    }
   ],
   "source": [
    "cars=['audi', 'benz', 'bmw', 'hond', 'maruthi', 'tata', 'toyato']\n",
    "cars.reverse()\n",
    "print(cars)"
   ]
  },
  {
   "cell_type": "code",
   "execution_count": 16,
   "metadata": {},
   "outputs": [],
   "source": [
    "#How do you calculate the length of the list:"
   ]
  },
  {
   "cell_type": "code",
   "execution_count": 18,
   "metadata": {},
   "outputs": [
    {
     "data": {
      "text/plain": [
       "7"
      ]
     },
     "execution_count": 18,
     "metadata": {},
     "output_type": "execute_result"
    }
   ],
   "source": [
    "cars=['audi', 'benz', 'bmw', 'hond', 'maruthi', 'tata', 'toyato']\n",
    "len(cars)"
   ]
  },
  {
   "cell_type": "code",
   "execution_count": 19,
   "metadata": {},
   "outputs": [],
   "source": [
    "#String and list combination:"
   ]
  },
  {
   "cell_type": "code",
   "execution_count": 20,
   "metadata": {},
   "outputs": [],
   "source": [
    "#Req: 1.To access Tata on the output.\n",
    "#2. To print custom statement for it."
   ]
  },
  {
   "cell_type": "code",
   "execution_count": 22,
   "metadata": {},
   "outputs": [
    {
     "name": "stdout",
     "output_type": "stream",
     "text": [
      "tata\n"
     ]
    }
   ],
   "source": [
    "cars=['audi', 'benz', 'bmw', 'hond', 'maruthi', 'tata', 'toyato']\n",
    "print(cars[5])"
   ]
  },
  {
   "cell_type": "code",
   "execution_count": 24,
   "metadata": {},
   "outputs": [
    {
     "name": "stdout",
     "output_type": "stream",
     "text": [
      "bmw is one of the top rate brands in the world\n"
     ]
    }
   ],
   "source": [
    "cars=['audi', 'benz', 'bmw', 'hond', 'maruthi', 'tata', 'toyato']\n",
    "print(f\"{cars[2]} is one of the top rate brands in the world\")"
   ]
  },
  {
   "cell_type": "code",
   "execution_count": 25,
   "metadata": {},
   "outputs": [],
   "source": [
    "#Enhancement of the code:"
   ]
  },
  {
   "cell_type": "code",
   "execution_count": 26,
   "metadata": {},
   "outputs": [
    {
     "name": "stdout",
     "output_type": "stream",
     "text": [
      "Bmw is one of the top rated brands in the world\n"
     ]
    }
   ],
   "source": [
    "cars=['audi', 'benz', 'bmw', 'hond', 'maruthi', 'tata', 'toyato']\n",
    "print(f\"{cars[2].title()} is one of the top rated brands in the world\")"
   ]
  },
  {
   "cell_type": "code",
   "execution_count": null,
   "metadata": {},
   "outputs": [],
   "source": []
  }
 ],
 "metadata": {
  "kernelspec": {
   "display_name": "Python 3",
   "language": "python",
   "name": "python3"
  },
  "language_info": {
   "codemirror_mode": {
    "name": "ipython",
    "version": 3
   },
   "file_extension": ".py",
   "mimetype": "text/x-python",
   "name": "python",
   "nbconvert_exporter": "python",
   "pygments_lexer": "ipython3",
   "version": "3.7.6"
  }
 },
 "nbformat": 4,
 "nbformat_minor": 4
}
