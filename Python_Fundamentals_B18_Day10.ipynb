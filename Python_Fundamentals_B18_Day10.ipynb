{
 "cells": [
  {
   "cell_type": "code",
   "execution_count": 1,
   "metadata": {},
   "outputs": [],
   "source": [
    "#Looping through Dictionaries:"
   ]
  },
  {
   "cell_type": "code",
   "execution_count": 3,
   "metadata": {},
   "outputs": [
    {
     "name": "stdout",
     "output_type": "stream",
     "text": [
      "{'f_name': 'code', '1_name': 'training', 'username': 'codetraining 01', 'pwd': '12345', 'dob': '01-01-2019'}\n"
     ]
    }
   ],
   "source": [
    "user1={'f_name':'code','1_name':'training','username':'codetraining 01','pwd':'12345','dob':'01-01-2019'}\n",
    "print(user1)"
   ]
  },
  {
   "cell_type": "code",
   "execution_count": 4,
   "metadata": {},
   "outputs": [],
   "source": [
    "#How do you loop through a dictionary?"
   ]
  },
  {
   "cell_type": "code",
   "execution_count": 7,
   "metadata": {},
   "outputs": [
    {
     "name": "stdout",
     "output_type": "stream",
     "text": [
      "{'f_name': 'code', '1_name': 'training', 'username': 'codetraining 01', 'pwd': '12345', 'dob': '01-01-2019'}\n"
     ]
    }
   ],
   "source": [
    "user1={'f_name':'code','1_name':'training','username':'codetraining 01','pwd':'12345','dob':'01-01-2019'}\n",
    "print(user1)"
   ]
  },
  {
   "cell_type": "code",
   "execution_count": 12,
   "metadata": {},
   "outputs": [
    {
     "name": "stdout",
     "output_type": "stream",
     "text": [
      "key:f_name\n",
      "value:code\n",
      "key:1_name\n",
      "value:training\n",
      "key:username\n",
      "value:codetraining 01\n",
      "key:pwd\n",
      "value:12345\n",
      "key:dob\n",
      "value:01-01-2019\n"
     ]
    }
   ],
   "source": [
    "for key,value in user1.items():\n",
    "    print(f\"key:{key}\")\n",
    "    print(f\"value:{value}\")"
   ]
  },
  {
   "cell_type": "code",
   "execution_count": 13,
   "metadata": {},
   "outputs": [],
   "source": [
    "#Key-value: Dict data type we will be able to define two temp varibles\""
   ]
  },
  {
   "cell_type": "code",
   "execution_count": 14,
   "metadata": {},
   "outputs": [
    {
     "name": "stdout",
     "output_type": "stream",
     "text": [
      "key:f_name\n",
      "value:code\n",
      "key:1_name\n",
      "value:training\n",
      "key:username\n",
      "value:codetraining 01\n",
      "key:pwd\n",
      "value:12345\n",
      "key:dob\n",
      "value:01-01-2019\n"
     ]
    }
   ],
   "source": [
    "for x,y in user1.items():\n",
    "    print(f\"key:{x}\")\n",
    "    print(f\"value:{y}\")"
   ]
  },
  {
   "cell_type": "code",
   "execution_count": null,
   "metadata": {},
   "outputs": [],
   "source": [
    "#Enhancement of the code: Key-value togeather Jointly"
   ]
  },
  {
   "cell_type": "code",
   "execution_count": 27,
   "metadata": {},
   "outputs": [
    {
     "name": "stdout",
     "output_type": "stream",
     "text": [
      "\n",
      "key:f_name\n",
      "value:code\n",
      "\n",
      "key:1_name\n",
      "value:training\n",
      "\n",
      "key:username\n",
      "value:codetraining 01\n",
      "\n",
      "key:pwd\n",
      "value:12345\n",
      "\n",
      "key:dob\n",
      "value:01-01-2019\n"
     ]
    }
   ],
   "source": [
    "for x,y in user1.items():\n",
    "    print(f\"\\nkey:{x}\")\n",
    "    print(f\"value:{y}\")"
   ]
  },
  {
   "cell_type": "code",
   "execution_count": 23,
   "metadata": {},
   "outputs": [],
   "source": [
    "#Req: I want to get only keys in the output"
   ]
  },
  {
   "cell_type": "code",
   "execution_count": 31,
   "metadata": {},
   "outputs": [
    {
     "name": "stdout",
     "output_type": "stream",
     "text": [
      "{'f_name': 'code', '1_name': 'training', 'username': 'codetraining 01', 'pwd': '12345', 'dob': '01-01-2019'}\n"
     ]
    }
   ],
   "source": [
    "user1={'f_name':'code','1_name':'training','username':'codetraining 01','pwd':'12345','dob':'01-01-2019'}\n",
    "print(user1)"
   ]
  },
  {
   "cell_type": "code",
   "execution_count": 36,
   "metadata": {},
   "outputs": [
    {
     "name": "stdout",
     "output_type": "stream",
     "text": [
      "f_name\n",
      "1_name\n",
      "username\n",
      "pwd\n",
      "dob\n"
     ]
    }
   ],
   "source": [
    "for a in user1.keys():\n",
    "    print(a)"
   ]
  },
  {
   "cell_type": "code",
   "execution_count": 37,
   "metadata": {},
   "outputs": [],
   "source": [
    "#Req: I want to get only values in the output:"
   ]
  },
  {
   "cell_type": "code",
   "execution_count": 38,
   "metadata": {},
   "outputs": [
    {
     "name": "stdout",
     "output_type": "stream",
     "text": [
      "code\n",
      "training\n",
      "codetraining 01\n",
      "12345\n",
      "01-01-2019\n"
     ]
    }
   ],
   "source": [
    "for b in user1.values():\n",
    "    print(b)"
   ]
  },
  {
   "cell_type": "code",
   "execution_count": 39,
   "metadata": {},
   "outputs": [],
   "source": [
    "#Req: I am conducting a survey for a group of students choose their favourite languages"
   ]
  },
  {
   "cell_type": "code",
   "execution_count": 40,
   "metadata": {},
   "outputs": [
    {
     "name": "stdout",
     "output_type": "stream",
     "text": [
      "{'ashok': 'c', 'ravali': 'python', 'satya': 'pascal', 'suresh': 'python', 'devi': 'cobol'}\n"
     ]
    }
   ],
   "source": [
    "fav_languages={'ashok':'c','ravali':'python','satya':'pascal','suresh':'python','devi':'cobol'}\n",
    "print(fav_languages)"
   ]
  },
  {
   "cell_type": "code",
   "execution_count": 41,
   "metadata": {},
   "outputs": [
    {
     "data": {
      "text/plain": [
       "dict"
      ]
     },
     "execution_count": 41,
     "metadata": {},
     "output_type": "execute_result"
    }
   ],
   "source": [
    "type(fav_languages)"
   ]
  },
  {
   "cell_type": "code",
   "execution_count": 42,
   "metadata": {},
   "outputs": [
    {
     "name": "stdout",
     "output_type": "stream",
     "text": [
      "Ashok's favourite language is C.\n",
      "Ravali's favourite language is Python.\n",
      "Satya's favourite language is Pascal.\n",
      "Suresh's favourite language is Python.\n",
      "Devi's favourite language is Cobol.\n"
     ]
    }
   ],
   "source": [
    "for name, language in fav_languages.items():\n",
    "    print(f\"{name.title()}'s favourite language is {language.title()}.\")"
   ]
  },
  {
   "cell_type": "code",
   "execution_count": 45,
   "metadata": {},
   "outputs": [
    {
     "name": "stdout",
     "output_type": "stream",
     "text": [
      "\n",
      "Ashok's favourite language is C.\n",
      "\n",
      "Ravali's favourite language is Python.\n",
      "\n",
      "Satya's favourite language is Pascal.\n",
      "\n",
      "Suresh's favourite language is Python.\n",
      "\n",
      "Devi's favourite language is Cobol.\n"
     ]
    }
   ],
   "source": [
    "for name, language in fav_languages.items():\n",
    "    print(f\"\\n{name.title()}'s favourite language is {language.title()}.\")"
   ]
  },
  {
   "cell_type": "code",
   "execution_count": null,
   "metadata": {},
   "outputs": [],
   "source": []
  }
 ],
 "metadata": {
  "kernelspec": {
   "display_name": "Python 3",
   "language": "python",
   "name": "python3"
  },
  "language_info": {
   "codemirror_mode": {
    "name": "ipython",
    "version": 3
   },
   "file_extension": ".py",
   "mimetype": "text/x-python",
   "name": "python",
   "nbconvert_exporter": "python",
   "pygments_lexer": "ipython3",
   "version": "3.7.6"
  }
 },
 "nbformat": 4,
 "nbformat_minor": 4
}
