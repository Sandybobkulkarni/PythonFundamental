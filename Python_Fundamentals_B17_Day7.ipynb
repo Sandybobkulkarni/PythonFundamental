{
 "cells": [
  {
   "cell_type": "code",
   "execution_count": 1,
   "metadata": {},
   "outputs": [],
   "source": [
    "#Introduction to for loops:"
   ]
  },
  {
   "cell_type": "code",
   "execution_count": 2,
   "metadata": {},
   "outputs": [],
   "source": [
    "#For loop will be iterating through the element"
   ]
  },
  {
   "cell_type": "code",
   "execution_count": 3,
   "metadata": {},
   "outputs": [
    {
     "name": "stdout",
     "output_type": "stream",
     "text": [
      "['bhavani', 'harsha', 'suman', 'madhu', 'hanmanth', 'shoan']\n"
     ]
    }
   ],
   "source": [
    "my_students=['bhavani','harsha','suman','madhu','hanmanth','shoan']\n",
    "print(my_students)"
   ]
  },
  {
   "cell_type": "code",
   "execution_count": 7,
   "metadata": {},
   "outputs": [
    {
     "data": {
      "text/plain": [
       "list"
      ]
     },
     "execution_count": 7,
     "metadata": {},
     "output_type": "execute_result"
    }
   ],
   "source": [
    "my_students=['bhavani','harsha','suman','madhu','hanmanth','shoan']\n",
    "type(my_students)"
   ]
  },
  {
   "cell_type": "code",
   "execution_count": 15,
   "metadata": {},
   "outputs": [],
   "source": [
    "#Req:"
   ]
  },
  {
   "cell_type": "code",
   "execution_count": 16,
   "metadata": {},
   "outputs": [
    {
     "name": "stdout",
     "output_type": "stream",
     "text": [
      "keep up the good work, bhavani\n"
     ]
    }
   ],
   "source": [
    "print(f\"keep up the good work, {my_students[0]}\")"
   ]
  },
  {
   "cell_type": "code",
   "execution_count": 17,
   "metadata": {},
   "outputs": [
    {
     "name": "stdout",
     "output_type": "stream",
     "text": [
      "keep up the good work, Bhavani\n"
     ]
    }
   ],
   "source": [
    "print(f\"keep up the good work, {my_students[0].title()}\")"
   ]
  },
  {
   "cell_type": "code",
   "execution_count": 18,
   "metadata": {},
   "outputs": [],
   "source": [
    "#General Syntax:"
   ]
  },
  {
   "cell_type": "code",
   "execution_count": 19,
   "metadata": {},
   "outputs": [],
   "source": [
    "#For Tempvar in Mainver:\n",
    "  print(tempvar)"
   ]
  },
  {
   "cell_type": "code",
   "execution_count": null,
   "metadata": {},
   "outputs": [],
   "source": [
    "student(tempvar) in my_students(mainvar):\n",
    "    print(student(tempvar))"
   ]
  },
  {
   "cell_type": "code",
   "execution_count": 22,
   "metadata": {},
   "outputs": [
    {
     "name": "stdout",
     "output_type": "stream",
     "text": [
      "bhavani\n",
      "harsha\n",
      "suman\n",
      "madhu\n",
      "hanmanth\n",
      "shoan\n"
     ]
    }
   ],
   "source": [
    "for student in my_students:\n",
    "    print(student)"
   ]
  },
  {
   "cell_type": "code",
   "execution_count": 23,
   "metadata": {},
   "outputs": [],
   "source": [
    "#for x in my_students:"
   ]
  },
  {
   "cell_type": "code",
   "execution_count": null,
   "metadata": {},
   "outputs": [],
   "source": [
    "print(x)"
   ]
  },
  {
   "cell_type": "code",
   "execution_count": 25,
   "metadata": {},
   "outputs": [],
   "source": [
    "#Req: 1-----> Appreciate the students-----> Achieved\n",
    "\n",
    "#Req: 2-----> I am looking forward to receive your practise file\n",
    "\n",
    "#Req: 3-----> To give a thankyou note for everyone showing intrest in learning python"
   ]
  },
  {
   "cell_type": "code",
   "execution_count": 26,
   "metadata": {},
   "outputs": [
    {
     "name": "stdout",
     "output_type": "stream",
     "text": [
      "keep up the good work,bhavani\n",
      "keep up the good work,harsha\n",
      "keep up the good work,suman\n",
      "keep up the good work,madhu\n",
      "keep up the good work,hanmanth\n",
      "keep up the good work,shoan\n"
     ]
    }
   ],
   "source": [
    "for student in my_students:\n",
    "    print(f\"keep up the good work,{student}\")"
   ]
  },
  {
   "cell_type": "code",
   "execution_count": 27,
   "metadata": {},
   "outputs": [
    {
     "name": "stdout",
     "output_type": "stream",
     "text": [
      "keep up the good work,bhavani\n",
      "i am looking forward to receive your practise file for the day,bhavani.\n",
      "\n",
      "keep up the good work,harsha\n",
      "i am looking forward to receive your practise file for the day,harsha.\n",
      "\n",
      "keep up the good work,suman\n",
      "i am looking forward to receive your practise file for the day,suman.\n",
      "\n",
      "keep up the good work,madhu\n",
      "i am looking forward to receive your practise file for the day,madhu.\n",
      "\n",
      "keep up the good work,hanmanth\n",
      "i am looking forward to receive your practise file for the day,hanmanth.\n",
      "\n",
      "keep up the good work,shoan\n",
      "i am looking forward to receive your practise file for the day,shoan.\n",
      "\n"
     ]
    }
   ],
   "source": [
    "for student in my_students:\n",
    "    print(f\"keep up the good work,{student}\")\n",
    "    print(f\"i am looking forward to receive your practise file for the day,{student}.\\n\")"
   ]
  },
  {
   "cell_type": "code",
   "execution_count": 29,
   "metadata": {},
   "outputs": [
    {
     "name": "stdout",
     "output_type": "stream",
     "text": [
      "keep up the good work,bhavani\n",
      "i am looking forward to receive your practise file for the day,bhavani.\n",
      "\n",
      "thanks everyone for showing intrset in learing python\n",
      "keep up the good work,harsha\n",
      "i am looking forward to receive your practise file for the day,harsha.\n",
      "\n",
      "thanks everyone for showing intrset in learing python\n",
      "keep up the good work,suman\n",
      "i am looking forward to receive your practise file for the day,suman.\n",
      "\n",
      "thanks everyone for showing intrset in learing python\n",
      "keep up the good work,madhu\n",
      "i am looking forward to receive your practise file for the day,madhu.\n",
      "\n",
      "thanks everyone for showing intrset in learing python\n",
      "keep up the good work,hanmanth\n",
      "i am looking forward to receive your practise file for the day,hanmanth.\n",
      "\n",
      "thanks everyone for showing intrset in learing python\n",
      "keep up the good work,shoan\n",
      "i am looking forward to receive your practise file for the day,shoan.\n",
      "\n",
      "thanks everyone for showing intrset in learing python\n"
     ]
    }
   ],
   "source": [
    "for student in my_students:\n",
    "    print(f\"keep up the good work,{student}\")\n",
    "    print(f\"i am looking forward to receive your practise file for the day,{student}.\\n\")\n",
    "    print('thanks everyone for showing intrset in learing python')"
   ]
  },
  {
   "cell_type": "code",
   "execution_count": 30,
   "metadata": {},
   "outputs": [],
   "source": [
    "#Introduction to if conditions:"
   ]
  },
  {
   "cell_type": "code",
   "execution_count": 31,
   "metadata": {},
   "outputs": [],
   "source": [
    "#-----> Understanding conditional statements:"
   ]
  },
  {
   "cell_type": "code",
   "execution_count": 33,
   "metadata": {},
   "outputs": [],
   "source": [
    "#on occurance of an event, something would be happening---->"
   ]
  },
  {
   "cell_type": "code",
   "execution_count": 42,
   "metadata": {},
   "outputs": [
    {
     "name": "stdout",
     "output_type": "stream",
     "text": [
      "['audi', 'bmw', 'tata', 'benz', 'toyata', 'honda']\n"
     ]
    }
   ],
   "source": [
    "cars=['audi','bmw','tata','benz','toyata','honda']\n",
    "print(cars)"
   ]
  },
  {
   "cell_type": "code",
   "execution_count": 35,
   "metadata": {},
   "outputs": [
    {
     "name": "stdout",
     "output_type": "stream",
     "text": [
      "BMW\n"
     ]
    }
   ],
   "source": [
    "for car in cars:\n",
    "    if car=='bmw':\n",
    "        print(car.upper())"
   ]
  },
  {
   "cell_type": "code",
   "execution_count": 43,
   "metadata": {},
   "outputs": [
    {
     "name": "stdout",
     "output_type": "stream",
     "text": [
      "Audi\n"
     ]
    }
   ],
   "source": [
    "for car in cars:\n",
    "    if car=='audi':\n",
    "        print(car.title())"
   ]
  },
  {
   "cell_type": "code",
   "execution_count": null,
   "metadata": {},
   "outputs": [],
   "source": []
  }
 ],
 "metadata": {
  "kernelspec": {
   "display_name": "Python 3",
   "language": "python",
   "name": "python3"
  },
  "language_info": {
   "codemirror_mode": {
    "name": "ipython",
    "version": 3
   },
   "file_extension": ".py",
   "mimetype": "text/x-python",
   "name": "python",
   "nbconvert_exporter": "python",
   "pygments_lexer": "ipython3",
   "version": "3.7.6"
  }
 },
 "nbformat": 4,
 "nbformat_minor": 4
}
